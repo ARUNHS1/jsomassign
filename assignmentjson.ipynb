{
 "cells": [
  {
   "cell_type": "markdown",
   "metadata": {},
   "source": [
    "Create an assignment for File handling of JSON files in Python\n",
    "Assignment 1\n",
    "👉 1. Create a JSON file (employee.json) containing employee information of minimum 5 employees. Each employee information consists of Name, DOB, Height, City, State. Write a python program that reads this information from the JSON file and saves the information into a list of objects of Employee class. Finally print the list of the Employee objects.\n",
    "\n",
    "👉 2. Create a dictionary of any 7 Indian states and their capitals. Write this into a JSON file."
   ]
  },
  {
   "cell_type": "code",
   "execution_count": 1,
   "metadata": {},
   "outputs": [
    {
     "name": "stdout",
     "output_type": "stream",
     "text": [
      "{'name': 'John Doe', 'dob': '1990-05-15', 'height': 175, 'city': 'New York', 'state': 'NY'}\n",
      "{'name': 'Jane Smith', 'dob': '1988-11-20', 'height': 162, 'city': 'Los Angeles', 'state': 'CA'}\n",
      "{'name': 'Alice Johnson', 'dob': '1995-03-10', 'height': 168, 'city': 'Chicago', 'state': 'IL'}\n",
      "{'name': 'Bob Williams', 'dob': '1985-09-28', 'height': 180, 'city': 'Houston', 'state': 'TX'}\n",
      "{'name': 'Eva Brown', 'dob': '1992-07-04', 'height': 170, 'city': 'Miami', 'state': 'FL'}\n"
     ]
    }
   ],
   "source": [
    "import json\n",
    "\n",
    "class Employee:\n",
    "    def __init__(self, name, dob, height, city, state):\n",
    "        self.name = name\n",
    "        self.dob = dob\n",
    "        self.height = height\n",
    "        self.city = city\n",
    "        self.state = state\n",
    "\n",
    "\n",
    "with open('employee.json') as file:\n",
    "    data = json.load(file)\n",
    "\n",
    "\n",
    "employees = []\n",
    "for emp in data:\n",
    "    employee = Employee(emp['Name'], emp['DOB'], emp['Height'], emp['City'], emp['State'])\n",
    "    employees.append(employee)\n",
    "\n",
    "\n",
    "for employee in employees:\n",
    "    print(vars(employee))  \n",
    "    \n"
   ]
  },
  {
   "cell_type": "code",
   "execution_count": 2,
   "metadata": {},
   "outputs": [],
   "source": [
    "import json\n",
    "\n",
    "indian_states = {\n",
    "    \"Maharashtra\": \"Mumbai\",\n",
    "    \"Tamil Nadu\": \"Chennai\",\n",
    "    \"Uttar Pradesh\": \"Lucknow\",\n",
    "    \"Karnataka\": \"Bengaluru\",\n",
    "    \"Gujarat\": \"Gandhinagar\",\n",
    "    \"West Bengal\": \"Kolkata\",\n",
    "    \"Rajasthan\": \"Jaipur\"\n",
    "}\n",
    "\n",
    "\n",
    "with open('indian_states.json', 'w') as file:\n",
    "    json.dump(indian_states, file, indent=4)\n"
   ]
  },
  {
   "cell_type": "markdown",
   "metadata": {},
   "source": [
    "Assignment 2\n",
    "👉 1. Create a class named ‘Dog’. It should have a constructor which accepts its name, age and coat color. You must perform the following operations:\n",
    "\n",
    "🔴 a. It should have a function ‘description()’ which prints the name and age of the dog.\n",
    "🔴 b. It should have a function ‘get_info()’ which prints the coat color of the dog.\n",
    "🔴 c. Create child classes ‘JackRussellTerrier’ and ‘Bulldog’ which is inherited from the class ‘Dog’. It should have at least two methods of its own.\n",
    "🔴 d. Create objects and implement the above functionalities."
   ]
  },
  {
   "cell_type": "code",
   "execution_count": 3,
   "metadata": {},
   "outputs": [
    {
     "name": "stdout",
     "output_type": "stream",
     "text": [
      "Buddy is 3 years old.\n",
      "The coat color of Buddy is White and Brown.\n",
      "Buddy loves playing fetch.\n",
      "Buddy has a hunting instinct.\n",
      "Max is 5 years old.\n",
      "The coat color of Max is Fawn.\n",
      "Max is known for loud snoring.\n",
      "Max can be a good guard dog.\n"
     ]
    }
   ],
   "source": [
    "class Dog:\n",
    "    def __init__(self, name, age, coat_color):\n",
    "        self.name = name\n",
    "        self.age = age\n",
    "        self.coat_color = coat_color\n",
    "\n",
    "    def description(self):\n",
    "        print(f\"{self.name} is {self.age} years old.\")\n",
    "\n",
    "    def get_info(self):\n",
    "        print(f\"The coat color of {self.name} is {self.coat_color}.\")\n",
    "\n",
    "\n",
    "class JackRussellTerrier(Dog):\n",
    "    def play_fetch(self):\n",
    "        print(f\"{self.name} loves playing fetch.\")\n",
    "\n",
    "    def hunt(self):\n",
    "        print(f\"{self.name} has a hunting instinct.\")\n",
    "\n",
    "\n",
    "class Bulldog(Dog):\n",
    "    def snore(self):\n",
    "        print(f\"{self.name} is known for loud snoring.\")\n",
    "\n",
    "    def guard(self):\n",
    "        print(f\"{self.name} can be a good guard dog.\")\n",
    "\n",
    "\n",
    "\n",
    "dog1 = JackRussellTerrier(\"Buddy\", 3, \"White and Brown\")\n",
    "dog1.description()\n",
    "dog1.get_info()\n",
    "dog1.play_fetch()\n",
    "dog1.hunt()\n",
    "\n",
    "dog2 = Bulldog(\"Max\", 5, \"Fawn\")\n",
    "dog2.description()\n",
    "dog2.get_info()\n",
    "dog2.snore()\n",
    "dog2.guard()\n"
   ]
  },
  {
   "cell_type": "code",
   "execution_count": null,
   "metadata": {},
   "outputs": [],
   "source": []
  }
 ],
 "metadata": {
  "kernelspec": {
   "display_name": "Python 3",
   "language": "python",
   "name": "python3"
  },
  "language_info": {
   "codemirror_mode": {
    "name": "ipython",
    "version": 3
   },
   "file_extension": ".py",
   "mimetype": "text/x-python",
   "name": "python",
   "nbconvert_exporter": "python",
   "pygments_lexer": "ipython3",
   "version": "3.12.0"
  }
 },
 "nbformat": 4,
 "nbformat_minor": 2
}
